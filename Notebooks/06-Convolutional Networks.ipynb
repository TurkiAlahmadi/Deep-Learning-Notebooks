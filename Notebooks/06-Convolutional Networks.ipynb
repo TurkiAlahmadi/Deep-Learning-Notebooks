{
  "cells": [
    {
      "cell_type": "markdown",
      "metadata": {
        "id": "fTiW4zMR0VYA"
      },
      "source": [
        "## Convolutional Networks\n",
        "-----------------------\n",
        "\n",
        "\n",
        "\n",
        "\n",
        "\n",
        "Note: ensure that CUDA have been activated, otherwise training might take too long.\n",
        "In Google Colaboratory:\n",
        "\n",
        "1. Check the options Runtime -> Change Runtime Type on top of the page.\n",
        "2. In the popup window, select hardware accelerator GPU.\n",
        "\n",
        "Afterward, the following command should run successfully:"
      ]
    },
    {
      "cell_type": "code",
      "execution_count": 1,
      "metadata": {
        "colab": {
          "base_uri": "https://localhost:8080/"
        },
        "id": "iNkCN5R30VYF",
        "outputId": "5a38bd50-1ea8-4131-8697-012a3615fad9"
      },
      "outputs": [
        {
          "output_type": "stream",
          "name": "stdout",
          "text": [
            "Successfully enabled CUDA processing\n"
          ]
        }
      ],
      "source": [
        "import torch\n",
        "if torch.cuda.is_available():\n",
        "  print(\"Successfully enabled CUDA processing\")\n",
        "else:\n",
        "  print(\"CUDA processing not available. Things will be slow :-(\")"
      ]
    },
    {
      "cell_type": "markdown",
      "metadata": {
        "id": "HQyESe0I0VYG"
      },
      "source": [
        "## Dataset Loading\n",
        "\n",
        "The MNIST dataset of handwritten digits for categorical classification is used.\n",
        "\n",
        "Following is a function that returns the training and the test set of MNIST, using the given transform."
      ]
    },
    {
      "cell_type": "code",
      "execution_count": 2,
      "metadata": {
        "id": "i2Wg442qWE6O"
      },
      "outputs": [],
      "source": [
        "import torch\n",
        "import torchvision\n",
        "import PIL"
      ]
    },
    {
      "cell_type": "code",
      "execution_count": 3,
      "metadata": {
        "id": "TLE56wGn0VYH"
      },
      "outputs": [],
      "source": [
        "def datasets(transform):\n",
        "  trainset = torchvision.datasets.MNIST(root=\"./data\", train=True, download=True, transform=transform)\n",
        "  testset = torchvision.datasets.MNIST(root=\"./data\", train=False, download=True, transform=transform)\n",
        "\n",
        "  return trainset, testset"
      ]
    },
    {
      "cell_type": "markdown",
      "metadata": {
        "id": "9RgpzrDV0VYH"
      },
      "source": [
        "## Data Types\n",
        "\n",
        "Create the dataset with `transform=None`. Check that all inputs are of type `PIL.Image.Image`, and all targets are integral."
      ]
    },
    {
      "cell_type": "code",
      "execution_count": 4,
      "metadata": {
        "colab": {
          "base_uri": "https://localhost:8080/"
        },
        "id": "bUXwXvIr0VYH",
        "outputId": "352464c8-b98f-4ced-af5b-8e011b1e06a9"
      },
      "outputs": [
        {
          "output_type": "stream",
          "name": "stdout",
          "text": [
            "Downloading http://yann.lecun.com/exdb/mnist/train-images-idx3-ubyte.gz\n",
            "Downloading http://yann.lecun.com/exdb/mnist/train-images-idx3-ubyte.gz to ./data/MNIST/raw/train-images-idx3-ubyte.gz\n"
          ]
        },
        {
          "output_type": "stream",
          "name": "stderr",
          "text": [
            "100%|██████████| 9912422/9912422 [00:19<00:00, 508489.96it/s]\n"
          ]
        },
        {
          "output_type": "stream",
          "name": "stdout",
          "text": [
            "Extracting ./data/MNIST/raw/train-images-idx3-ubyte.gz to ./data/MNIST/raw\n",
            "\n",
            "Downloading http://yann.lecun.com/exdb/mnist/train-labels-idx1-ubyte.gz\n",
            "Downloading http://yann.lecun.com/exdb/mnist/train-labels-idx1-ubyte.gz to ./data/MNIST/raw/train-labels-idx1-ubyte.gz\n"
          ]
        },
        {
          "output_type": "stream",
          "name": "stderr",
          "text": [
            "100%|██████████| 28881/28881 [00:00<00:00, 93830901.49it/s]"
          ]
        },
        {
          "output_type": "stream",
          "name": "stdout",
          "text": [
            "Extracting ./data/MNIST/raw/train-labels-idx1-ubyte.gz to ./data/MNIST/raw\n",
            "\n",
            "Downloading http://yann.lecun.com/exdb/mnist/t10k-images-idx3-ubyte.gz\n",
            "Downloading http://yann.lecun.com/exdb/mnist/t10k-images-idx3-ubyte.gz to ./data/MNIST/raw/t10k-images-idx3-ubyte.gz\n"
          ]
        },
        {
          "output_type": "stream",
          "name": "stderr",
          "text": [
            "\n",
            "100%|██████████| 1648877/1648877 [00:00<00:00, 32912441.81it/s]\n"
          ]
        },
        {
          "output_type": "stream",
          "name": "stdout",
          "text": [
            "Extracting ./data/MNIST/raw/t10k-images-idx3-ubyte.gz to ./data/MNIST/raw\n",
            "\n",
            "Downloading http://yann.lecun.com/exdb/mnist/t10k-labels-idx1-ubyte.gz\n",
            "Downloading http://yann.lecun.com/exdb/mnist/t10k-labels-idx1-ubyte.gz to ./data/MNIST/raw/t10k-labels-idx1-ubyte.gz\n"
          ]
        },
        {
          "output_type": "stream",
          "name": "stderr",
          "text": [
            "100%|██████████| 4542/4542 [00:00<00:00, 20374897.08it/s]\n"
          ]
        },
        {
          "output_type": "stream",
          "name": "stdout",
          "text": [
            "Extracting ./data/MNIST/raw/t10k-labels-idx1-ubyte.gz to ./data/MNIST/raw\n",
            "\n",
            "Data checking is finished successfully\n"
          ]
        }
      ],
      "source": [
        "trainset, testset = datasets(transform=None)\n",
        "\n",
        "for x,t in trainset:\n",
        "  # check datatype of input x\n",
        "  assert isinstance(x,PIL.Image.Image)\n",
        "  assert x.size == (28,28)\n",
        "  # check datatype of target t\n",
        "  assert isinstance(t,int) and 0<=t<=9\n",
        "print(\"Data checking is finished successfully\")"
      ]
    },
    {
      "cell_type": "markdown",
      "metadata": {
        "id": "mOPZz0xX0VYI"
      },
      "source": [
        "## Data Loaders\n",
        "\n",
        "Create the dataset with `transform=torchvision.transforms.ToTensor()`. Create two data loaders, one for the training set and one for the test set."
      ]
    },
    {
      "cell_type": "code",
      "execution_count": 5,
      "metadata": {
        "id": "dK9QBIQS0VYJ"
      },
      "outputs": [],
      "source": [
        "transform = torchvision.transforms.ToTensor()\n",
        "trainset, testset = datasets(transform)\n",
        "\n",
        "B = 64 # batch size\n",
        "trainloader = torch.utils.data.DataLoader(trainset, shuffle=True, batch_size=B)\n",
        "testloader = torch.utils.data.DataLoader(testset, shuffle=False, batch_size=B)"
      ]
    },
    {
      "cell_type": "markdown",
      "metadata": {
        "id": "vqILZ1En0VYJ"
      },
      "source": [
        "## Batches\n",
        "\n",
        "Check that all batches generated by the training set data loader have the batch size of $B$ -- except for the last batch. Check that all inputs and targets are of type `torch.Tensor`. Check that all input values are in range $[0,1]$. Check that all target values are in range $[0,9]$."
      ]
    },
    {
      "cell_type": "code",
      "execution_count": 6,
      "metadata": {
        "id": "wyjtBgPY0VYK"
      },
      "outputs": [],
      "source": [
        "for i, (x, t) in enumerate(trainloader):\n",
        "  # check datatype, size, and content of x\n",
        "  assert type(x) == torch.Tensor\n",
        "  assert torch.all(x >= 0) and torch.all(x <= 1)\n",
        "  if (i != len(trainloader) - 1):\n",
        "    assert len(x) == B\n",
        "\n",
        "  # check datatype, size, and content of t\n",
        "  assert type(t) == torch.Tensor\n",
        "  assert torch.all(t >= 0) and torch.all(t <= 9)"
      ]
    },
    {
      "cell_type": "markdown",
      "metadata": {
        "id": "dub0MiAb0VYK"
      },
      "source": [
        "## Fully-Connected Network\n",
        "\n",
        "Implement a function that returns a three-layer fully-connected network in pytorch.\n",
        "Use $\\tanh$ as activation function between the two fully-connected layers, and provide the possibility to change the number of inputs $D$, the number of hidden neurons $K$ and the number of outputs $O$.\n",
        "Use the following layers:\n",
        "\n",
        "1. A `torch.nn.Flatten` layer to turn the $28\\times28$ pixel image (2D) into a $28*28$ pixel vector (1D)\n",
        "2. A fully-connected layer with D input neurons and K outputs.\n",
        "3. A $\\tanh$ activation function.\n",
        "4. A fully-connected layer with K input neurons and K outputs.\n",
        "5. A $\\tanh$ activation function.\n",
        "6. A fully-connected layer with K input neurons and O outputs."
      ]
    },
    {
      "cell_type": "code",
      "execution_count": 7,
      "metadata": {
        "id": "GjCvvmoU0VYK"
      },
      "outputs": [],
      "source": [
        "def fully_connected(D, K, O):\n",
        "  return torch.nn.Sequential(\n",
        "    torch.nn.Flatten(),\n",
        "    torch.nn.Linear(D,K),\n",
        "    torch.nn.Tanh(),\n",
        "    torch.nn.Linear(K,K),\n",
        "    torch.nn.Tanh(),\n",
        "    torch.nn.Linear(K,O),\n",
        "  )"
      ]
    },
    {
      "cell_type": "markdown",
      "metadata": {
        "id": "b9O7VlEr0VYL"
      },
      "source": [
        "## Convolutional Network\n",
        "\n",
        "Implement a function that generates a convolutional network with the following layers:\n",
        "\n",
        "1. 2D convolutional layer with $Q_1$ channels, kernel size $5\\times5$, stride 1 and padding 2.\n",
        "2. 2D maximum pooling with pooling size $2\\times2$ and stride 2\n",
        "3. $\\tanh$ activation\n",
        "4. 2D convolutional layer with $Q_2$ channels, kernel size $5\\times5$, stride 1 and padding 2.\n",
        "5. 2D maximum pooling with pooling size $2\\times2$ and stride 2\n",
        "6. $\\tanh$ activation\n",
        "7. A flattening layer to turn the 3D image into 1D vector\n",
        "8. A fully-connected layer with the appropriate number of inputs and $O$ outputs."
      ]
    },
    {
      "cell_type": "code",
      "execution_count": 8,
      "metadata": {
        "id": "1KnUydS30VYL"
      },
      "outputs": [],
      "source": [
        "def convolutional(Q1, Q2, O):\n",
        "  return torch.nn.Sequential(\n",
        "    torch.nn.Conv2d(in_channels=1, out_channels=Q1, kernel_size = (5,5), stride=1, padding=2),\n",
        "    torch.nn.MaxPool2d(kernel_size=(2,2), stride=2),\n",
        "    torch.nn.Tanh(),\n",
        "    torch.nn.Conv2d(in_channels=Q1, out_channels=Q2, kernel_size = (5,5), stride=1, padding=2),\n",
        "    torch.nn.MaxPool2d(kernel_size=(2,2), stride=2),\n",
        "    torch.nn.Tanh(),\n",
        "    torch.nn.Flatten(),\n",
        "    torch.nn.Linear(Q2*7*7, O)\n",
        "  )\n"
      ]
    },
    {
      "cell_type": "markdown",
      "metadata": {
        "id": "UbxNx2eB0VYM"
      },
      "source": [
        "## Training and Validation Loop\n",
        "\n",
        "Implement a function that takes the network, the number of epochs and the learning rate.\n",
        "Select the correct loss function for categorical classification, and SGD optimizer.\n",
        "Iterate the following steps for the given number of epochs:\n",
        "\n",
        "1. Train the network with all batches of the training data\n",
        "2. Compute the test set loss and test set accuracy\n",
        "3. Store both in a vector\n",
        "\n",
        "Finally, return the lists of validation losses and accuracies."
      ]
    },
    {
      "cell_type": "code",
      "execution_count": 9,
      "metadata": {
        "id": "IY6MpPIh0VYM"
      },
      "outputs": [],
      "source": [
        "def train(network, epochs=10, eta=0.01):\n",
        "  # select loss function and optimizer\n",
        "  loss = torch.nn.CrossEntropyLoss()\n",
        "  optimizer = torch.optim.SGD(params=network.parameters(), lr=eta)\n",
        "\n",
        "  # instantiate the correct device\n",
        "  device = torch.device(\"cuda\")\n",
        "  network = network.to(device)\n",
        "\n",
        "  # collect loss values and accuracies over the training epochs\n",
        "  val_loss, val_acc = [], []\n",
        "\n",
        "  for epoch in range(epochs):\n",
        "    # train network on training data\n",
        "    for x,t in trainloader:\n",
        "      optimizer.zero_grad()\n",
        "      x = x.to(device)\n",
        "      t = t.to(device)\n",
        "      z = network(x)\n",
        "      J = loss(z, t)\n",
        "      J.backward()\n",
        "      optimizer.step()\n",
        "\n",
        "    # test network on test data\n",
        "    with torch.no_grad():\n",
        "      correct = 0\n",
        "      test_loss = []\n",
        "      for x,t in testloader:\n",
        "        z = network(x.to(device))\n",
        "        J = loss(z, t.to(device))\n",
        "        # compute test accuracy\n",
        "        correct += torch.sum(torch.argmax(z, dim=1) == t.to(device)).item()\n",
        "        test_loss.append(J.item())\n",
        "      acc = correct / len(testset)\n",
        "      val_loss.append(sum(test_loss) / len(test_loss))\n",
        "      val_acc.append(acc)\n",
        "\n",
        "  # return loss and accuracy values\n",
        "  return val_loss, val_acc"
      ]
    },
    {
      "cell_type": "markdown",
      "metadata": {
        "id": "2rt_hsBu0VYM"
      },
      "source": [
        "## Fully-Connected Training\n",
        "\n",
        "Create a fully-connected network with $K=10$ hidden and $O=10$ output neurons.\n",
        "Train the network for 10 epochs with $\\eta=0.01$ and store the obtained test losses and accuracies."
      ]
    },
    {
      "cell_type": "code",
      "execution_count": 10,
      "metadata": {
        "id": "bEpw2uyh0VYM"
      },
      "outputs": [],
      "source": [
        "fc = fully_connected(28 * 28, 10, 10)\n",
        "fc_loss, fc_acc = train(fc)"
      ]
    },
    {
      "cell_type": "markdown",
      "metadata": {
        "id": "Rlm6Pyu50VYN"
      },
      "source": [
        "## Convolutional Training\n",
        "\n",
        "Create a convolutional network with $Q_1=32$ and $Q_2=64$ convolutional channels and $O=10$ output neurons.\n",
        "Train the network for 10 epochs with $\\eta=0.01$ and store the obtained test losses and accuracies."
      ]
    },
    {
      "cell_type": "code",
      "execution_count": 11,
      "metadata": {
        "id": "xYWtheKS0VYN"
      },
      "outputs": [],
      "source": [
        "cv = convolutional(Q1=32, Q2=64, O=10)\n",
        "cv_loss, cv_acc = train(cv)"
      ]
    },
    {
      "cell_type": "markdown",
      "metadata": {
        "id": "R8hohT2f0VYN"
      },
      "source": [
        "## Plotting\n",
        "\n",
        "Plot the two lists of loss values in one figure, and the two lists of accuracy values in another figure."
      ]
    },
    {
      "cell_type": "code",
      "execution_count": 13,
      "metadata": {
        "colab": {
          "base_uri": "https://localhost:8080/",
          "height": 333
        },
        "id": "KUnUNH8F0VYN",
        "outputId": "f842a46a-74d1-40db-eaee-18666e2db83a",
        "scrolled": true
      },
      "outputs": [
        {
          "output_type": "display_data",
          "data": {
            "text/plain": [
              "<Figure size 1000x300 with 2 Axes>"
            ],
            "image/png": "[encoded data removed]"
          },
          "metadata": {}
        }
      ],
      "source": [
        "from matplotlib import pyplot as plt\n",
        "plt.figure(figsize=(10,3))\n",
        "ax = plt.subplot(121)\n",
        "# plot loss values of FC and CV network over epochs\n",
        "ax.plot(fc_loss, \"g-\", label=\"Fully Connected Network\")\n",
        "ax.plot(cv_loss, \"b-\", label=\"Convolutional Network\")\n",
        "ax.set_xlabel('epochs')\n",
        "ax.set_ylabel('loss')\n",
        "ax.legend()\n",
        "ax.set_title('Validation Loss')\n",
        "\n",
        "ax = pyplot.subplot(122)\n",
        "# plot accuracy values of FC and CV network over epochs\n",
        "ax.plot(fc_acc, \"g-\", label=\"Fully-connected accuracy\")\n",
        "ax.plot(cv_acc, \"b-\", label=\"Convolutional accuracy\")\n",
        "ax.set_xlabel(\"Epoch\")\n",
        "ax.legend()\n",
        "ax.set_title('Validation Accuraacy')\n",
        "plt.show()"
      ]
    },
    {
      "cell_type": "markdown",
      "metadata": {
        "id": "nPg5LW0G0VYN"
      },
      "source": [
        "## Learnable Parameters\n",
        "\n",
        "Estimate how many learnable parameters the two networks have by analytically computing and adding the number of parameters in each layer.\n",
        "The number of parameters in the networks is computed by summing the number of parameters in each layer using `numel()` function from a `torch.Tensor`.\n",
        "\n",
        "Fully connected network:\n",
        "- The first layer and second layer: there are (28x28+1) x 10 = 7850 parameters\n",
        "- The second layer and third layer: there are (10+1) x 10 = 110 parameters\n",
        "- The second layer and output layer: there are (10+1) x 10 = 110 parameters\n",
        "\\\n",
        " In total, 7850 + 110 + 110 = 8070 parameters\n",
        "\n",
        "For convolutional network:\n",
        "- The first convolutional layer: there are (5x5+1) x 32 = 832 parameters\n",
        "- The second convolutional layer: there are (5x5x32+1) x 64 = 51264 parameters\n",
        "- Flattened layer and output layer: there are (7x7x64+1) x 10 = 31370 parameters\n",
        "\\\n",
        "In total, 832 + 51264 + 31370 = 83466 parameters"
      ]
    },
    {
      "cell_type": "code",
      "execution_count": 14,
      "metadata": {
        "colab": {
          "base_uri": "https://localhost:8080/"
        },
        "id": "m1R_6nHD0VYO",
        "outputId": "e734bb54-336f-4d57-a63a-f484c3dd056d"
      },
      "outputs": [
        {
          "output_type": "stream",
          "name": "stdout",
          "text": [
            "Fully-connected Network: 8070\n",
            "Convolutional Network: 83466\n"
          ]
        }
      ],
      "source": [
        "def parameter_count(network):\n",
        "  return sum(p.numel() for p in network.parameters())\n",
        "\n",
        "print(\"Fully-connected Network:\", parameter_count(fc))\n",
        "print(\"Convolutional Network:\", parameter_count(cv))"
      ]
    }
  ],
  "metadata": {
    "accelerator": "GPU",
    "colab": {
      "provenance": [],
      "gpuType": "T4"
    },
    "interpreter": {
      "hash": "2dd53f8ad749bca69f7250ce75eb4f0def59db5cf79075a9716322ffc58e8a2e"
    },
    "kernelspec": {
      "display_name": "Python 3",
      "name": "python3"
    },
    "language_info": {
      "codemirror_mode": {
        "name": "ipython",
        "version": 3
      },
      "file_extension": ".py",
      "mimetype": "text/x-python",
      "name": "python",
      "nbconvert_exporter": "python",
      "pygments_lexer": "ipython3",
      "version": "3.10.9"
    }
  },
  "nbformat": 4,
  "nbformat_minor": 0
}
