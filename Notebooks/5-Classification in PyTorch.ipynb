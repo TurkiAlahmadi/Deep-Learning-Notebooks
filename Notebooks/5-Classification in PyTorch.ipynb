{
 "cells": [
  {
   "cell_type": "markdown",
   "metadata": {
    "id": "6ESYQuuf5Bh8"
   },
   "source": [
    "# Classification in PyTorch\n",
    "-----------------------\n",
    "\n",
    "\n",
    "## Dataset Loading\n",
    "\n",
    "Two different datasets are used, the spambase dataset https://archive.ics.uci.edu/ml/datasets/spambase for binary classification and the wine dataset https://archive.ics.uci.edu/ml/datasets/wine for categorical classification.\n",
    "Both datasets are avaliable on the UCI Machine Learning repository.\n",
    "In the first dataset, the target values are stored in the first column, while the rest is input.\n",
    "For the second dataset, the target is stored in the last column, the rest is input.\n",
    "\n",
    "When running with pytorch, samples should be stored as datatype ``torch.tensor``, and split between input sets $\\mathbf X = [\\vec x^{[1]}, \\ldots, \\vec x^{[N]}]^T \\in \\mathbb R^{N\\times D}$ and targets.\n",
    "There is **no need** to add a bias neuron to the input, and the transposition of the data matrix is different from what we have seen before.\n",
    "\n",
    "For the targets, we have to be more careful as there are differences w.r.t. the applied loss function.\n",
    "For binary classification, we need $\\mathbf T = [[t^{[1]}, \\ldots, t^{[N]}]]$ to be in dimension $\\mathbb R^{N\\times1}$ and of type ``torch.float``.\n",
    "For categorical classification, we only need the class indexes $\\vec t = [t^{[1]}, \\ldots, t^{[N]}]$ to be in dimension $\\mathbb N^N$ and of type ``torch.long``."
   ]
  },
  {
   "cell_type": "code",
   "execution_count": 1,
   "metadata": {
    "id": "ig0dya5D5Bh-"
   },
   "outputs": [],
   "source": [
    "import os\n",
    "import torch\n",
    "\n",
    "# download the two dataset files\n",
    "dataset_files = {\n",
    "  \"spambase.data\": \"https://archive.ics.uci.edu/ml/machine-learning-databases/spambase/\",\n",
    "  \"wine.data\": \"https://archive.ics.uci.edu/ml/machine-learning-databases/wine/\"\n",
    "}\n",
    "for name, url in dataset_files.items():\n",
    "  if not os.path.exists(name):\n",
    "    import urllib.request\n",
    "    urllib.request.urlretrieve(url+name, name)\n",
    "    print (\"Downloaded datafile\", name)\n",
    "\n",
    "\n",
    "def dataset(dataset_file=\"wine.data\"):\n",
    "  # read dataset\n",
    "  data = []\n",
    "  with open(dataset_file, 'r') as f:\n",
    "    for row in f:\n",
    "      row_val = [float(x) for x in row.split(',')]\n",
    "      data.append(row_val)\n",
    "\n",
    "  print (f\"Loaded dataset with {len(data)} samples\")\n",
    "  \n",
    "  # convert to torch.tensor\n",
    "  data = torch.tensor(data)\n",
    "\n",
    "  if dataset_file == \"wine.data\":\n",
    "    # target is in the first column and needs to be converted to long\n",
    "    X = data[:,1:]\n",
    "    T = torch.tensor(data[:,0], dtype=torch.long) - 1\n",
    "  else:\n",
    "    # target is in the last column and needs to be of type float\n",
    "    X = data[:,:-1]\n",
    "    T = torch.tensor(data[:,-1:], dtype=torch.float32)\n",
    "  \n",
    "  return X, T"
   ]
  },
  {
   "cell_type": "markdown",
   "metadata": {
    "id": "O7zvl8G_5Bh_"
   },
   "source": [
    "## Assert Valid Data\n",
    "\n",
    "Load the wine dataset and make sure that the dataset is in the correct dimensions, i.e., $\\mathbf X\\in \\mathbb R^{N\\times D}$ and $\\mathbf T \\in \\mathbb N^N$. We also assure that all class labels are in the correct range $[0, O-1]$.\n",
    "\n",
    "Load the spambase data and assure that all dimensions are correct and that class labels are in range $\\{0, 1\\}$."
   ]
  },
  {
   "cell_type": "code",
   "execution_count": 2,
   "metadata": {
    "colab": {
     "base_uri": "https://localhost:8080/"
    },
    "id": "9_TZlEce5Bh_",
    "outputId": "9a4352e5-55a7-4a00-8a4e-8cc355779e4f"
   },
   "outputs": [
    {
     "name": "stdout",
     "output_type": "stream",
     "text": [
      "Loaded dataset with 4601 samples\n",
      "Loaded dataset with 178 samples\n"
     ]
    },
    {
     "name": "stderr",
     "output_type": "stream",
     "text": [
      "/var/folders/f7/3h12r1sx5js698pgvhc4sjqw0000gn/T/ipykernel_94020/3297016320.py:36: UserWarning: To copy construct from a tensor, it is recommended to use sourceTensor.clone().detach() or sourceTensor.clone().detach().requires_grad_(True), rather than torch.tensor(sourceTensor).\n",
      "  T = torch.tensor(data[:,-1:], dtype=torch.float32)\n",
      "/var/folders/f7/3h12r1sx5js698pgvhc4sjqw0000gn/T/ipykernel_94020/3297016320.py:32: UserWarning: To copy construct from a tensor, it is recommended to use sourceTensor.clone().detach() or sourceTensor.clone().detach().requires_grad_(True), rather than torch.tensor(sourceTensor).\n",
      "  T = torch.tensor(data[:,0], dtype=torch.long) - 1\n"
     ]
    }
   ],
   "source": [
    "# load email data\n",
    "X, T = dataset(\"spambase.data\")\n",
    "# assert that everything is correct with the dataset\n",
    "assert X.shape == (4601,57) and len(T) == 4601, \"Shapes are not matching\"\n",
    "assert max(T) <= 1 and min(T) >= 0, \"Some label out of range\"\n",
    "\n",
    "\n",
    "# load wine data\n",
    "X, T = dataset(\"wine.data\")\n",
    "# assert that everything is correct with the dataset\n",
    "assert X.shape == (178,13) and len(T) == 178, \"Shapes are not matching\"\n"
   ]
  },
  {
   "cell_type": "markdown",
   "metadata": {
    "id": "c1GYYA9q5Bh_"
   },
   "source": [
    "## Split Training and Validation Data\n",
    "\n",
    "\n",
    "Following is a function that splits off training and validation samples from a given dataset.\n",
    "We randomly assign 80% of the data for training and 20% for validation."
   ]
  },
  {
   "cell_type": "code",
   "execution_count": 3,
   "metadata": {
    "id": "mVq7FbHg5BiA"
   },
   "outputs": [],
   "source": [
    "def split_training_data(X,T,train_percentage=0.8):\n",
    "  # split into 80/20 training/validation\n",
    "  perm = torch.randperm(X.shape[0])\n",
    "  train_indices = perm[:int(train_percentage*X.shape[0])]\n",
    "  val_indices = perm[int(train_percentage*X.shape[0]):]\n",
    "\n",
    "  X_train = X[train_indices,:]\n",
    "  T_train = T[train_indices]\n",
    "  X_val = X[val_indices,:]\n",
    "  T_val = T[val_indices]\n",
    "\n",
    "  return X_train, T_train, X_val, T_val\n"
   ]
  },
  {
   "cell_type": "markdown",
   "metadata": {
    "id": "_Xg8U7Wp5BiA"
   },
   "source": [
    "## Input Data Standardization\n",
    "\n",
    "Implement a function that standardizes all input data for the training and validation set. Then, return the normalized data."
   ]
  },
  {
   "cell_type": "code",
   "execution_count": 4,
   "metadata": {
    "id": "Zs-UThQY5BiA"
   },
   "outputs": [],
   "source": [
    "def standardize(X_train, X_val):\n",
    "  # compute statistics\n",
    "  mean = torch.mean(X_train, axis=0)\n",
    "  std = torch.std(X_train, axis=0)\n",
    "\n",
    "  # standardize both X_train and X_val\n",
    "  X_train = (X_train - mean)/std\n",
    "  X_val = (X_val - mean)/std\n",
    "\n",
    "  return X_train, X_val\n"
   ]
  },
  {
   "cell_type": "markdown",
   "metadata": {
    "id": "RcVjAWEu5BiA"
   },
   "source": [
    "## Network Implementation\n",
    "\n",
    "Implement a function that returns a two-layer fully-connected network in pytorch.\n",
    "Use tanh as activation function, and provide the possibility to change the number of inputs $D$, the number of hidden neurons $K$ and the number of outputs $O$."
   ]
  },
  {
   "cell_type": "code",
   "execution_count": 5,
   "metadata": {
    "id": "F5xyq57v5BiB"
   },
   "outputs": [],
   "source": [
    "def Network(D, K, O):\n",
    "  return torch.nn.Sequential(\n",
    "    torch.nn.Linear(D,K),\n",
    "    torch.nn.Tanh(),\n",
    "    torch.nn.Linear(K,O)\n",
    "  )\n"
   ]
  },
  {
   "cell_type": "markdown",
   "metadata": {
    "id": "UUROOOw25BiB"
   },
   "source": [
    "## Accuracy Computation\n",
    "\n",
    "Implement a function that computes the accuracy of the provided network output (the logits) and the given target values. We ensure that the implementation supports both binary as well as categorical targets."
   ]
  },
  {
   "cell_type": "code",
   "execution_count": 26,
   "metadata": {
    "id": "AOMK6K0A5BiB"
   },
   "outputs": [],
   "source": [
    "def accuracy(Z, T):\n",
    "  if len(torch.unique(T)) == 2:\n",
    "    # binary classification\n",
    "    return torch.mean(((Z >= 0) == T).type(torch.float))\n",
    "  else:\n",
    "    # categorical classification\n",
    "    return torch.mean((torch.argmax(Z, dim=1) == T).float())"
   ]
  },
  {
   "cell_type": "markdown",
   "metadata": {
    "id": "BE4Kfzwp5BiB"
   },
   "source": [
    "## Test Accuracy Function\n",
    "\n",
    "Design test data and according logit values with which the correctness of the accuracy function can be tested."
   ]
  },
  {
   "cell_type": "code",
   "execution_count": 27,
   "metadata": {
    "colab": {
     "base_uri": "https://localhost:8080/"
    },
    "id": "OJRu5fsf5BiC",
    "outputId": "accf1e92-87e1-4624-bafe-79f318e86b3b"
   },
   "outputs": [
    {
     "name": "stdout",
     "output_type": "stream",
     "text": [
      "tensor(0.7778)\n"
     ]
    },
    {
     "data": {
      "text/plain": [
       "tensor(0.3333)"
      ]
     },
     "execution_count": 27,
     "metadata": {},
     "output_type": "execute_result"
    }
   ],
   "source": [
    "# test binary classification\n",
    "Z = torch.tensor([0.5,-0.2,0.4,0.8,0.2,-0.1,0.9,0.65,0.01])\n",
    "T = torch.tensor([1,0,1,1,0,0,1,1,0])\n",
    "# ... test that the expected accuracy is computed\n",
    "print(accuracy(Z,T))\n",
    "\n",
    "# test categorical classification\n",
    "Z = torch.tensor([[0.1,0.4,0.5],[0.2,0.6,0.2],[0.3,0.1,0.6]])\n",
    "T = torch.tensor([[1,0,0],[0,1,0],[0,0,1]])\n",
    "# ... test that the expected accuracy is computed\n",
    "accuracy(Z,T)"
   ]
  },
  {
   "cell_type": "markdown",
   "metadata": {
    "id": "Pqa8rjT15BiC"
   },
   "source": [
    "## Training Loop\n",
    "\n",
    "Implement a function that takes all necessary parameters to run a training on a given dataset.\n",
    "The entire dataset in each training step will be used, so gradient descent (not SGD) will be performed."
   ]
  },
  {
   "cell_type": "code",
   "execution_count": 9,
   "metadata": {
    "id": "GGN4dEdC5BiC"
   },
   "outputs": [],
   "source": [
    "def train(X_train,T_train,X_val, T_val,learning_rate=0.01,momentums=0.9,epochs=10000):\n",
    "\n",
    "  optimizer = torch.optim.SGD(params=network.parameters(),lr=learning_rate,momentum=momentums)\n",
    "\n",
    "  # collect loss and accuracy values\n",
    "  train_loss, train_acc, val_loss, val_acc = [], [], [], []\n",
    "\n",
    "  for epoch in range(epochs):\n",
    "    # train on training set\n",
    "    # ... compute network output on training data\n",
    "    optimizer.zero_grad()\n",
    "    # train on training set\n",
    "    # ... compute network output on training data\n",
    "    Z = network(X_train)\n",
    "    # ... compute loss from network output and target data\n",
    "    J = loss(Z, T_train)\n",
    "    J.backward()\n",
    "    # ... perform parameter update\n",
    "    optimizer.step()\n",
    "    # ... remember loss\n",
    "    train_loss.append(J.detach().numpy())\n",
    "    # ... compute training set accuracy\n",
    "    train_acc.append(accuracy(Z, T_train).detach().numpy())\n",
    "\n",
    "    # test on validation data\n",
    "    with torch.no_grad():\n",
    "      # ... compute network output on validation data\n",
    "      Z = network(X_val)\n",
    "      # ... compute loss from network output and target data\n",
    "      J = loss(Z, T_val)\n",
    "      # ... remember loss\n",
    "      val_loss.append(J.detach().numpy())\n",
    "      # ... compute validation set accuracy\n",
    "      val_acc.append(accuracy(Z, T_val).detach().numpy())\n",
    "\n",
    "  # return the four lists of losses and accuracies\n",
    "  return train_loss, train_acc, val_loss, val_acc"
   ]
  },
  {
   "cell_type": "markdown",
   "metadata": {
    "id": "DUn-q9Eb5BiC"
   },
   "source": [
    "## Plotting Function\n",
    "\n",
    "Implement a function that takes four lists containing the training loss, the training accuracy, the validation loss and the validation accuracy. Plot the two losses into one plot, and the two accuracies into another plot."
   ]
  },
  {
   "cell_type": "code",
   "execution_count": 28,
   "metadata": {
    "id": "bKm9DP4M5BiC"
   },
   "outputs": [],
   "source": [
    "from matplotlib import pyplot as plt\n",
    "def plot(train_loss, train_acc, val_loss, val_acc):\n",
    "  plt.figure(figsize=(10,3))\n",
    "  ax = plt.subplot(121)\n",
    "  ax.plot(train_loss, \"g-\", label=\"Training set loss\")\n",
    "  ax.plot(val_loss, \"b-\", label=\"Validation set loss\")\n",
    "  ax.legend()\n",
    "\n",
    "  ax = plt.subplot(122)\n",
    "  ax.plot(train_acc, \"g-\", label=\"Training set accuracy\")\n",
    "  ax.plot(val_acc, \"b-\", label=\"Validation set accuracy\")\n",
    "  ax.legend()\n",
    "  plt.show()"
   ]
  },
  {
   "cell_type": "markdown",
   "metadata": {
    "id": "UdHgnOG55BiD"
   },
   "source": [
    "## Binary Classification\n",
    "\n",
    "Load the data for binary classification, using the ``\"spambase.data\"`` file.\n",
    "Split the data into training and validation sets.\n",
    "Standardize both training and validation input data.\n",
    "\n",
    "Instantiate a network with the correct number of input neurons, a given number of $K$ hidden neurons and one output neuron.\n",
    "Instantiate the binary cross entropy loss function.\n",
    "\n",
    "Train the network with the data for 10'000 epochs and plot the training and validation accuracies and losses."
   ]
  },
  {
   "cell_type": "code",
   "execution_count": 29,
   "metadata": {
    "colab": {
     "base_uri": "https://localhost:8080/",
     "height": 265
    },
    "id": "ly5O16pl5BiD",
    "outputId": "a0f76700-c99e-4546-d2a9-451148d8e66a"
   },
   "outputs": [
    {
     "name": "stdout",
     "output_type": "stream",
     "text": [
      "Loaded dataset with 4601 samples\n"
     ]
    },
    {
     "name": "stderr",
     "output_type": "stream",
     "text": [
      "/var/folders/f7/3h12r1sx5js698pgvhc4sjqw0000gn/T/ipykernel_94020/3297016320.py:36: UserWarning: To copy construct from a tensor, it is recommended to use sourceTensor.clone().detach() or sourceTensor.clone().detach().requires_grad_(True), rather than torch.tensor(sourceTensor).\n",
      "  T = torch.tensor(data[:,-1:], dtype=torch.float32)\n"
     ]
    },
    {
     "data": {
      "image/png": "[encoded data removed]",
      "text/plain": [
       "<Figure size 1000x300 with 2 Axes>"
      ]
     },
     "metadata": {},
     "output_type": "display_data"
    }
   ],
   "source": [
    "# define loss function\n",
    "loss = torch.nn.BCEWithLogitsLoss()\n",
    "# load dataset\n",
    "X, T = dataset(\"spambase.data\")\n",
    "# split dataset\n",
    "X_train, T_train, X_val, T_val = split_training_data(X,T,train_percentage=0.8)\n",
    "# standardize input data\n",
    "X_train, X_val = standardize(X_train, X_val)\n",
    "# instantiate network\n",
    "network = Network(D=X_train.shape[1], K=50, O=1)\n",
    "\n",
    "# train network on our data\n",
    "results = train(X_train,T_train,X_val, T_val,learning_rate=0.01,momentums=0.9,epochs=10000)\n",
    "# plot the results\n",
    "plot(*results)"
   ]
  },
  {
   "cell_type": "markdown",
   "metadata": {
    "id": "cbuXAFcd5BiD"
   },
   "source": [
    "## Categorical Classification\n",
    "\n",
    "Perform the same tasks with the ``\"wine.data\"`` dataset."
   ]
  },
  {
   "cell_type": "code",
   "execution_count": 17,
   "metadata": {
    "colab": {
     "base_uri": "https://localhost:8080/",
     "height": 265
    },
    "id": "9Zq9Wjtg5BiD",
    "outputId": "361629bb-c0dd-4f36-e4d0-d14e5dc91124"
   },
   "outputs": [
    {
     "name": "stdout",
     "output_type": "stream",
     "text": [
      "Loaded dataset with 178 samples\n"
     ]
    },
    {
     "name": "stderr",
     "output_type": "stream",
     "text": [
      "/var/folders/f7/3h12r1sx5js698pgvhc4sjqw0000gn/T/ipykernel_94020/3297016320.py:32: UserWarning: To copy construct from a tensor, it is recommended to use sourceTensor.clone().detach() or sourceTensor.clone().detach().requires_grad_(True), rather than torch.tensor(sourceTensor).\n",
      "  T = torch.tensor(data[:,0], dtype=torch.long) - 1\n"
     ]
    },
    {
     "data": {
      "image/png": "[encoded data removed]",
      "text/plain": [
       "<Figure size 1000x300 with 2 Axes>"
      ]
     },
     "metadata": {},
     "output_type": "display_data"
    }
   ],
   "source": [
    "# define loss function\n",
    "loss = torch.nn.CrossEntropyLoss()\n",
    "# load dataset\n",
    "X, T = dataset(\"wine.data\")\n",
    "# split dataset\n",
    "X_train, T_train, X_val, T_val = split_training_data(X,T)\n",
    "T_train = T_train.flatten()\n",
    "T_val = T_val.flatten()\n",
    "# standardize input data\n",
    "X_train, X_val = standardize(X_train, X_val)\n",
    "# instantiate network\n",
    "D = X_train.shape[1]\n",
    "K = 10\n",
    "O = 3\n",
    "network = Network(D,K,O)\n",
    "\n",
    "# train network on our data\n",
    "results = train(X_train, T_train, X_val, T_val, learning_rate=0.01,momentums=0.9,epochs=10000)\n",
    "\n",
    "# plot the results\n",
    "plot(*results)\n"
   ]
  },
  {
   "cell_type": "code",
   "execution_count": null,
   "metadata": {},
   "outputs": [],
   "source": []
  }
 ],
 "metadata": {
  "colab": {
   "collapsed_sections": [],
   "name": "Assignment05.ipynb",
   "provenance": []
  },
  "interpreter": {
   "hash": "2dd53f8ad749bca69f7250ce75eb4f0def59db5cf79075a9716322ffc58e8a2e"
  },
  "kernelspec": {
   "display_name": "Python 3 (ipykernel)",
   "language": "python",
   "name": "python3"
  },
  "language_info": {
   "codemirror_mode": {
    "name": "ipython",
    "version": 3
   },
   "file_extension": ".py",
   "mimetype": "text/x-python",
   "name": "python",
   "nbconvert_exporter": "python",
   "pygments_lexer": "ipython3",
   "version": "3.10.9"
  }
 },
 "nbformat": 4,
 "nbformat_minor": 1
}
