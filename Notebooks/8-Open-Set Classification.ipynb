{
 "cells": [
  {
   "cell_type": "markdown",
   "metadata": {
    "id": "IIkBdB1pCG6J"
   },
   "source": [
    "# Open-Set Classification\n",
    "-----------------------\n",
    "\n",
    "We select the MNIST dataset and define several classes to be known, known unknown (used as negative class during training) and unknown unknown (not used for training at all)."
   ]
  },
  {
   "cell_type": "markdown",
   "metadata": {
    "id": "qlBzb9Ilap22"
   },
   "source": [
    "## Target Vectors\n",
    "\n",
    "For the training dataset, we want to use four classes of MNIST digits (4,5,8,9) as known classes and four (0,2,3,7) as known unknowns.\n",
    "The remaining two classes shall be ignored during training and validation, and only be used for testing.\n",
    "\n",
    "When we want to train with our adapted softmax function, we need to assign the correct target vectors for the classes.\n",
    "\n",
    "These are $(1,0,0,0)$, $(0,1,0,0)$, $(0,0,1,0)$, and $(0,0,0,1)$ for the known classes, respectively.\n",
    "For known unknown classes, the target vector is $\\left(\\frac14,\\frac14,\\frac14,\\frac14\\right)$, throughout."
   ]
  },
  {
   "cell_type": "code",
   "execution_count": 1,
   "metadata": {
    "id": "pmoczEUUCG6N"
   },
   "outputs": [],
   "source": [
    "import torch\n",
    "import torchvision\n",
    "\n",
    "# define the three types of classes\n",
    "known_classes = (4,5,8,9)\n",
    "known_unknown_classes = (0,2,3,7)\n",
    "unknown_classes = (1,6)\n",
    "O = len(known_classes)\n",
    "\n",
    "def target_vector(index):\n",
    "  # select correct one-hot vector for known classes, and the 1/O-vectors for unknown classes\n",
    "  if index in known_classes:\n",
    "    pos = known_classes.index(index)\n",
    "    return torch.tensor([1 if i == pos else 0 for i in range(O)])\n",
    "  else:\n",
    "    return torch.tensor([1 / O for _ in range(O)])"
   ]
  },
  {
   "cell_type": "markdown",
   "metadata": {
    "id": "_q5h4NpDCG6P"
   },
   "source": [
    "## Check Target Vectors\n",
    "\n",
    "Test that the target vectors are correct for all types of known and unknown samples."
   ]
  },
  {
   "cell_type": "code",
   "execution_count": 2,
   "metadata": {
    "id": "Md-um-x6CG6P"
   },
   "outputs": [],
   "source": [
    "# check that the target vectors for known classes are correct\n",
    "for index in known_classes:\n",
    "  t = target_vector(index)\n",
    "  assert t.sum() == 1\n",
    "  assert t.argmax() == known_classes.index(index)\n",
    "  assert type(t) == torch.Tensor\n",
    "\n",
    "# check that the target vectors for unknown classes are correct\n",
    "for index in known_unknown_classes + unknown_classes:\n",
    "  t = target_vector(index)\n",
    "  assert t.sum() == 1\n",
    "  assert type(t) == torch.Tensor\n"
   ]
  },
  {
   "cell_type": "markdown",
   "metadata": {
    "id": "YsLWrd3ICG6Q"
   },
   "source": [
    "## Training Dataset\n",
    "\n",
    "We rely on the MNIST dataset implementation from PyTorch and adapt some parts of it.\n",
    "Mainly, we will let PyTorch load the dataset by calling the base class constructor and modify the `self.data` and `self.targets` ourselves.\n",
    "Additionally, we need to implement the index function to return the data and targets in the desired format."
   ]
  },
  {
   "cell_type": "code",
   "execution_count": 3,
   "metadata": {
    "id": "iP8Sf8JxCG6R"
   },
   "outputs": [],
   "source": [
    "import numpy as np\n",
    "\n",
    "class DataSet(torchvision.datasets.MNIST):\n",
    "  def __init__(self, purpose=\"train\"):\n",
    "    # call base class constructor to handle the data loading\n",
    "    super(DataSet, self).__init__(\n",
    "      \".\", train = True if purpose == \"train\" else False, download=True, transform = torchvision.transforms.ToTensor()\n",
    "    )\n",
    "\n",
    "    # select the valid classes based on the current purpose\n",
    "    # select the valid classes based on the current purpose\n",
    "    if purpose == \"train\":\n",
    "      self.classes = known_classes + known_unknown_classes\n",
    "    elif purpose == \"valid\":\n",
    "      self.classes = known_classes + known_unknown_classes\n",
    "    elif purpose == \"test\":\n",
    "      self.classes = known_classes + unknown_classes\n",
    "\n",
    "    # check if one element of the list is in another list\n",
    "    mask = np.column_stack([self.targets == i for i in self.classes]).any(axis=1)\n",
    "    # sub-select the data of valid classes\n",
    "    self.data = self.data[mask]\n",
    "    # select the targets of valid classes\n",
    "    self.targets = self.targets[mask]\n",
    "\n",
    "  def __getitem__(self, index):\n",
    "    # perform appropriate actions on the data and the targets\n",
    "    (i,t) = super().__getitem__(index)\n",
    "    target = target_vector(t)\n",
    "    return i, target"
   ]
  },
  {
   "cell_type": "code",
   "execution_count": 4,
   "metadata": {
    "colab": {
     "base_uri": "https://localhost:8080/"
    },
    "id": "4LEzAljkap24",
    "outputId": "3809a139-2e5d-48ee-e29b-2b5173f73eca",
    "scrolled": true
   },
   "outputs": [
    {
     "name": "stdout",
     "output_type": "stream",
     "text": [
      "Downloading http://yann.lecun.com/exdb/mnist/train-images-idx3-ubyte.gz\n",
      "Downloading http://yann.lecun.com/exdb/mnist/train-images-idx3-ubyte.gz to ./DataSet/raw/train-images-idx3-ubyte.gz\n"
     ]
    },
    {
     "name": "stderr",
     "output_type": "stream",
     "text": [
      "100%|██████████| 9912422/9912422 [00:00<00:00, 411266086.78it/s]"
     ]
    },
    {
     "name": "stdout",
     "output_type": "stream",
     "text": [
      "Extracting ./DataSet/raw/train-images-idx3-ubyte.gz to ./DataSet/raw\n"
     ]
    },
    {
     "name": "stderr",
     "output_type": "stream",
     "text": [
      "\n"
     ]
    },
    {
     "name": "stdout",
     "output_type": "stream",
     "text": [
      "\n",
      "Downloading http://yann.lecun.com/exdb/mnist/train-labels-idx1-ubyte.gz\n",
      "Downloading http://yann.lecun.com/exdb/mnist/train-labels-idx1-ubyte.gz to ./DataSet/raw/train-labels-idx1-ubyte.gz\n"
     ]
    },
    {
     "name": "stderr",
     "output_type": "stream",
     "text": [
      "100%|██████████| 28881/28881 [00:00<00:00, 96753749.06it/s]\n"
     ]
    },
    {
     "name": "stdout",
     "output_type": "stream",
     "text": [
      "Extracting ./DataSet/raw/train-labels-idx1-ubyte.gz to ./DataSet/raw\n",
      "\n",
      "Downloading http://yann.lecun.com/exdb/mnist/t10k-images-idx3-ubyte.gz\n",
      "Downloading http://yann.lecun.com/exdb/mnist/t10k-images-idx3-ubyte.gz to ./DataSet/raw/t10k-images-idx3-ubyte.gz\n"
     ]
    },
    {
     "name": "stderr",
     "output_type": "stream",
     "text": [
      "100%|██████████| 1648877/1648877 [00:00<00:00, 251954220.43it/s]\n"
     ]
    },
    {
     "name": "stdout",
     "output_type": "stream",
     "text": [
      "Extracting ./DataSet/raw/t10k-images-idx3-ubyte.gz to ./DataSet/raw\n",
      "\n",
      "Downloading http://yann.lecun.com/exdb/mnist/t10k-labels-idx1-ubyte.gz\n",
      "Downloading http://yann.lecun.com/exdb/mnist/t10k-labels-idx1-ubyte.gz to ./DataSet/raw/t10k-labels-idx1-ubyte.gz\n"
     ]
    },
    {
     "name": "stderr",
     "output_type": "stream",
     "text": [
      "100%|██████████| 4542/4542 [00:00<00:00, 11462412.01it/s]"
     ]
    },
    {
     "name": "stdout",
     "output_type": "stream",
     "text": [
      "Extracting ./DataSet/raw/t10k-labels-idx1-ubyte.gz to ./DataSet/raw\n",
      "\n"
     ]
    },
    {
     "name": "stderr",
     "output_type": "stream",
     "text": [
      "\n"
     ]
    },
    {
     "data": {
      "text/plain": [
       "(tensor([[[0.0000, 0.0000, 0.0000, 0.0000, 0.0000, 0.0000, 0.0000, 0.0000,\n",
       "           0.0000, 0.0000, 0.0000, 0.0000, 0.0000, 0.0000, 0.0000, 0.0000,\n",
       "           0.0000, 0.0000, 0.0000, 0.0000, 0.0000, 0.0000, 0.0000, 0.0000,\n",
       "           0.0000, 0.0000, 0.0000, 0.0000],\n",
       "          [0.0000, 0.0000, 0.0000, 0.0000, 0.0000, 0.0000, 0.0000, 0.0000,\n",
       "           0.0000, 0.0000, 0.0000, 0.0000, 0.0000, 0.0000, 0.0000, 0.0000,\n",
       "           0.0000, 0.0000, 0.0000, 0.0000, 0.0000, 0.0000, 0.0000, 0.0000,\n",
       "           0.0000, 0.0000, 0.0000, 0.0000],\n",
       "          [0.0000, 0.0000, 0.0000, 0.0000, 0.0000, 0.0000, 0.0000, 0.0000,\n",
       "           0.0000, 0.0000, 0.0000, 0.0000, 0.0000, 0.0000, 0.0000, 0.0000,\n",
       "           0.0000, 0.0000, 0.0000, 0.0000, 0.0000, 0.0000, 0.0000, 0.0000,\n",
       "           0.0000, 0.0000, 0.0000, 0.0000],\n",
       "          [0.0000, 0.0000, 0.0000, 0.0000, 0.0000, 0.0000, 0.0000, 0.0000,\n",
       "           0.0000, 0.0000, 0.0000, 0.0000, 0.0000, 0.0000, 0.0000, 0.0000,\n",
       "           0.0000, 0.0000, 0.0000, 0.0000, 0.0000, 0.0000, 0.0000, 0.0000,\n",
       "           0.0000, 0.0000, 0.0000, 0.0000],\n",
       "          [0.0000, 0.0000, 0.0000, 0.0000, 0.0000, 0.0000, 0.0000, 0.0000,\n",
       "           0.0000, 0.0000, 0.0000, 0.0000, 0.0000, 0.0000, 0.0000, 0.0000,\n",
       "           0.0000, 0.0000, 0.0000, 0.0000, 0.0000, 0.0000, 0.0000, 0.0000,\n",
       "           0.0000, 0.0000, 0.0000, 0.0000],\n",
       "          [0.0000, 0.0000, 0.0000, 0.0000, 0.0000, 0.0000, 0.0000, 0.0000,\n",
       "           0.0000, 0.0000, 0.0000, 0.0000, 0.0118, 0.0706, 0.0706, 0.0706,\n",
       "           0.4941, 0.5333, 0.6863, 0.1020, 0.6510, 1.0000, 0.9686, 0.4980,\n",
       "           0.0000, 0.0000, 0.0000, 0.0000],\n",
       "          [0.0000, 0.0000, 0.0000, 0.0000, 0.0000, 0.0000, 0.0000, 0.0000,\n",
       "           0.1176, 0.1412, 0.3686, 0.6039, 0.6667, 0.9922, 0.9922, 0.9922,\n",
       "           0.9922, 0.9922, 0.8824, 0.6745, 0.9922, 0.9490, 0.7647, 0.2510,\n",
       "           0.0000, 0.0000, 0.0000, 0.0000],\n",
       "          [0.0000, 0.0000, 0.0000, 0.0000, 0.0000, 0.0000, 0.0000, 0.1922,\n",
       "           0.9333, 0.9922, 0.9922, 0.9922, 0.9922, 0.9922, 0.9922, 0.9922,\n",
       "           0.9922, 0.9843, 0.3647, 0.3216, 0.3216, 0.2196, 0.1529, 0.0000,\n",
       "           0.0000, 0.0000, 0.0000, 0.0000],\n",
       "          [0.0000, 0.0000, 0.0000, 0.0000, 0.0000, 0.0000, 0.0000, 0.0706,\n",
       "           0.8588, 0.9922, 0.9922, 0.9922, 0.9922, 0.9922, 0.7765, 0.7137,\n",
       "           0.9686, 0.9451, 0.0000, 0.0000, 0.0000, 0.0000, 0.0000, 0.0000,\n",
       "           0.0000, 0.0000, 0.0000, 0.0000],\n",
       "          [0.0000, 0.0000, 0.0000, 0.0000, 0.0000, 0.0000, 0.0000, 0.0000,\n",
       "           0.3137, 0.6118, 0.4196, 0.9922, 0.9922, 0.8039, 0.0431, 0.0000,\n",
       "           0.1686, 0.6039, 0.0000, 0.0000, 0.0000, 0.0000, 0.0000, 0.0000,\n",
       "           0.0000, 0.0000, 0.0000, 0.0000],\n",
       "          [0.0000, 0.0000, 0.0000, 0.0000, 0.0000, 0.0000, 0.0000, 0.0000,\n",
       "           0.0000, 0.0549, 0.0039, 0.6039, 0.9922, 0.3529, 0.0000, 0.0000,\n",
       "           0.0000, 0.0000, 0.0000, 0.0000, 0.0000, 0.0000, 0.0000, 0.0000,\n",
       "           0.0000, 0.0000, 0.0000, 0.0000],\n",
       "          [0.0000, 0.0000, 0.0000, 0.0000, 0.0000, 0.0000, 0.0000, 0.0000,\n",
       "           0.0000, 0.0000, 0.0000, 0.5451, 0.9922, 0.7451, 0.0078, 0.0000,\n",
       "           0.0000, 0.0000, 0.0000, 0.0000, 0.0000, 0.0000, 0.0000, 0.0000,\n",
       "           0.0000, 0.0000, 0.0000, 0.0000],\n",
       "          [0.0000, 0.0000, 0.0000, 0.0000, 0.0000, 0.0000, 0.0000, 0.0000,\n",
       "           0.0000, 0.0000, 0.0000, 0.0431, 0.7451, 0.9922, 0.2745, 0.0000,\n",
       "           0.0000, 0.0000, 0.0000, 0.0000, 0.0000, 0.0000, 0.0000, 0.0000,\n",
       "           0.0000, 0.0000, 0.0000, 0.0000],\n",
       "          [0.0000, 0.0000, 0.0000, 0.0000, 0.0000, 0.0000, 0.0000, 0.0000,\n",
       "           0.0000, 0.0000, 0.0000, 0.0000, 0.1373, 0.9451, 0.8824, 0.6275,\n",
       "           0.4235, 0.0039, 0.0000, 0.0000, 0.0000, 0.0000, 0.0000, 0.0000,\n",
       "           0.0000, 0.0000, 0.0000, 0.0000],\n",
       "          [0.0000, 0.0000, 0.0000, 0.0000, 0.0000, 0.0000, 0.0000, 0.0000,\n",
       "           0.0000, 0.0000, 0.0000, 0.0000, 0.0000, 0.3176, 0.9412, 0.9922,\n",
       "           0.9922, 0.4667, 0.0980, 0.0000, 0.0000, 0.0000, 0.0000, 0.0000,\n",
       "           0.0000, 0.0000, 0.0000, 0.0000],\n",
       "          [0.0000, 0.0000, 0.0000, 0.0000, 0.0000, 0.0000, 0.0000, 0.0000,\n",
       "           0.0000, 0.0000, 0.0000, 0.0000, 0.0000, 0.0000, 0.1765, 0.7294,\n",
       "           0.9922, 0.9922, 0.5882, 0.1059, 0.0000, 0.0000, 0.0000, 0.0000,\n",
       "           0.0000, 0.0000, 0.0000, 0.0000],\n",
       "          [0.0000, 0.0000, 0.0000, 0.0000, 0.0000, 0.0000, 0.0000, 0.0000,\n",
       "           0.0000, 0.0000, 0.0000, 0.0000, 0.0000, 0.0000, 0.0000, 0.0627,\n",
       "           0.3647, 0.9882, 0.9922, 0.7333, 0.0000, 0.0000, 0.0000, 0.0000,\n",
       "           0.0000, 0.0000, 0.0000, 0.0000],\n",
       "          [0.0000, 0.0000, 0.0000, 0.0000, 0.0000, 0.0000, 0.0000, 0.0000,\n",
       "           0.0000, 0.0000, 0.0000, 0.0000, 0.0000, 0.0000, 0.0000, 0.0000,\n",
       "           0.0000, 0.9765, 0.9922, 0.9765, 0.2510, 0.0000, 0.0000, 0.0000,\n",
       "           0.0000, 0.0000, 0.0000, 0.0000],\n",
       "          [0.0000, 0.0000, 0.0000, 0.0000, 0.0000, 0.0000, 0.0000, 0.0000,\n",
       "           0.0000, 0.0000, 0.0000, 0.0000, 0.0000, 0.0000, 0.1804, 0.5098,\n",
       "           0.7176, 0.9922, 0.9922, 0.8118, 0.0078, 0.0000, 0.0000, 0.0000,\n",
       "           0.0000, 0.0000, 0.0000, 0.0000],\n",
       "          [0.0000, 0.0000, 0.0000, 0.0000, 0.0000, 0.0000, 0.0000, 0.0000,\n",
       "           0.0000, 0.0000, 0.0000, 0.0000, 0.1529, 0.5804, 0.8980, 0.9922,\n",
       "           0.9922, 0.9922, 0.9804, 0.7137, 0.0000, 0.0000, 0.0000, 0.0000,\n",
       "           0.0000, 0.0000, 0.0000, 0.0000],\n",
       "          [0.0000, 0.0000, 0.0000, 0.0000, 0.0000, 0.0000, 0.0000, 0.0000,\n",
       "           0.0000, 0.0000, 0.0941, 0.4471, 0.8667, 0.9922, 0.9922, 0.9922,\n",
       "           0.9922, 0.7882, 0.3059, 0.0000, 0.0000, 0.0000, 0.0000, 0.0000,\n",
       "           0.0000, 0.0000, 0.0000, 0.0000],\n",
       "          [0.0000, 0.0000, 0.0000, 0.0000, 0.0000, 0.0000, 0.0000, 0.0000,\n",
       "           0.0902, 0.2588, 0.8353, 0.9922, 0.9922, 0.9922, 0.9922, 0.7765,\n",
       "           0.3176, 0.0078, 0.0000, 0.0000, 0.0000, 0.0000, 0.0000, 0.0000,\n",
       "           0.0000, 0.0000, 0.0000, 0.0000],\n",
       "          [0.0000, 0.0000, 0.0000, 0.0000, 0.0000, 0.0000, 0.0706, 0.6706,\n",
       "           0.8588, 0.9922, 0.9922, 0.9922, 0.9922, 0.7647, 0.3137, 0.0353,\n",
       "           0.0000, 0.0000, 0.0000, 0.0000, 0.0000, 0.0000, 0.0000, 0.0000,\n",
       "           0.0000, 0.0000, 0.0000, 0.0000],\n",
       "          [0.0000, 0.0000, 0.0000, 0.0000, 0.2157, 0.6745, 0.8863, 0.9922,\n",
       "           0.9922, 0.9922, 0.9922, 0.9569, 0.5216, 0.0431, 0.0000, 0.0000,\n",
       "           0.0000, 0.0000, 0.0000, 0.0000, 0.0000, 0.0000, 0.0000, 0.0000,\n",
       "           0.0000, 0.0000, 0.0000, 0.0000],\n",
       "          [0.0000, 0.0000, 0.0000, 0.0000, 0.5333, 0.9922, 0.9922, 0.9922,\n",
       "           0.8314, 0.5294, 0.5176, 0.0627, 0.0000, 0.0000, 0.0000, 0.0000,\n",
       "           0.0000, 0.0000, 0.0000, 0.0000, 0.0000, 0.0000, 0.0000, 0.0000,\n",
       "           0.0000, 0.0000, 0.0000, 0.0000],\n",
       "          [0.0000, 0.0000, 0.0000, 0.0000, 0.0000, 0.0000, 0.0000, 0.0000,\n",
       "           0.0000, 0.0000, 0.0000, 0.0000, 0.0000, 0.0000, 0.0000, 0.0000,\n",
       "           0.0000, 0.0000, 0.0000, 0.0000, 0.0000, 0.0000, 0.0000, 0.0000,\n",
       "           0.0000, 0.0000, 0.0000, 0.0000],\n",
       "          [0.0000, 0.0000, 0.0000, 0.0000, 0.0000, 0.0000, 0.0000, 0.0000,\n",
       "           0.0000, 0.0000, 0.0000, 0.0000, 0.0000, 0.0000, 0.0000, 0.0000,\n",
       "           0.0000, 0.0000, 0.0000, 0.0000, 0.0000, 0.0000, 0.0000, 0.0000,\n",
       "           0.0000, 0.0000, 0.0000, 0.0000],\n",
       "          [0.0000, 0.0000, 0.0000, 0.0000, 0.0000, 0.0000, 0.0000, 0.0000,\n",
       "           0.0000, 0.0000, 0.0000, 0.0000, 0.0000, 0.0000, 0.0000, 0.0000,\n",
       "           0.0000, 0.0000, 0.0000, 0.0000, 0.0000, 0.0000, 0.0000, 0.0000,\n",
       "           0.0000, 0.0000, 0.0000, 0.0000]]]),\n",
       " tensor([0, 1, 0, 0]))"
      ]
     },
     "execution_count": 4,
     "metadata": {},
     "output_type": "execute_result"
    }
   ],
   "source": [
    "ds = DataSet(purpose=\"train\")\n",
    "ds.__getitem__(0)"
   ]
  },
  {
   "cell_type": "markdown",
   "metadata": {
    "id": "3vlLi9VFCG6S"
   },
   "source": [
    "## Data Sets\n",
    "\n",
    "Instantiate the training dataset.\n",
    "Implement a data loader for the training dataset with a batch size of 64.\n",
    "Assure that all inputs are of the desired type and shape.\n",
    "Assert that the target values are in the correct format, and the sum of the target values per sample is one."
   ]
  },
  {
   "cell_type": "code",
   "execution_count": 5,
   "metadata": {
    "id": "MO0Y-5wTCG6T"
   },
   "outputs": [],
   "source": [
    "# instantiate the training dataset\n",
    "train_set = DataSet(purpose=\"train\")\n",
    "train_loader = torch.utils.data.DataLoader(train_set, batch_size=64, shuffle=True)\n",
    "\n",
    "# assert that we have not filtered out all samples\n",
    "assert len(train_set.data) == len(train_set.targets)\n",
    "assert len(train_set.data) > 0\n",
    "\n",
    "# check the batch and assert valid data and sizes\n",
    "for i, (x,t) in enumerate(train_loader):\n",
    "  if i == len(train_loader) - 1:\n",
    "    continue\n",
    "  assert x.shape == (64, 1, 28, 28)\n",
    "  assert t.shape == (64, 4)\n",
    "  assert torch.all(x <= 1)\n"
   ]
  },
  {
   "cell_type": "code",
   "execution_count": 6,
   "metadata": {
    "colab": {
     "base_uri": "https://localhost:8080/"
    },
    "id": "9XqJo_RLap26",
    "outputId": "0d0dd6b8-932b-439f-9e13-819a3619a7f9"
   },
   "outputs": [
    {
     "data": {
      "text/plain": [
       "47340"
      ]
     },
     "execution_count": 6,
     "metadata": {},
     "output_type": "execute_result"
    }
   ],
   "source": [
    "len(train_set.data)"
   ]
  },
  {
   "cell_type": "markdown",
   "metadata": {
    "id": "Dib-Vio8CG6T"
   },
   "source": [
    "## Utility Function\n",
    "\n",
    "Implement a function that splits a batch of samples into known and unknown parts. For the known parts, also provide the target vectors."
   ]
  },
  {
   "cell_type": "code",
   "execution_count": 7,
   "metadata": {
    "id": "Ng82VswACG6U"
   },
   "outputs": [],
   "source": [
    "def split_known_unknown(batch, targets):\n",
    "  # select the indexes at which known and unknown samples exist\n",
    "  known = torch.any(targets == 1, dim=1)\n",
    "  unknown = torch.all(targets == 1/4, dim=1)\n",
    "  # return the known samples, the targets of the known samples, as well as the unknown samples\n",
    "  return batch[known], targets[known], batch[unknown]"
   ]
  },
  {
   "cell_type": "markdown",
   "metadata": {
    "id": "2GuNoofDCG6U"
   },
   "source": [
    "## Loss Function Implementation\n",
    "\n",
    "Implement a loss function that implements an autograd function, i.e., we define both the forward and the backward pass for our loss computation."
   ]
  },
  {
   "cell_type": "code",
   "execution_count": 8,
   "metadata": {
    "id": "1dDOjCBXCG6V"
   },
   "outputs": [],
   "source": [
    "class AdaptedSoftMax(torch.autograd.Function):\n",
    "\n",
    "  # implement the forward propagation\n",
    "  @staticmethod\n",
    "  def forward(ctx, logits, targets):\n",
    "    # compute the log probabilities via log_softmax\n",
    "    log_probs = torch.nn.functional.log_softmax(logits,dim=1)\n",
    "    # save required values for backward pass\n",
    "    ctx.save_for_backward(log_probs, targets)\n",
    "    # compute loss\n",
    "    loss = - targets * log_probs\n",
    "    return torch.sum(loss)\n",
    "\n",
    "  # implement Jacobian\n",
    "  @staticmethod\n",
    "  def backward(ctx, result):\n",
    "    # get results stored from forward pass\n",
    "    log_probs, targets = ctx.saved_tensors\n",
    "    # compute derivative of loss w.r.t. the logits\n",
    "    dJ_dy = torch.exp(log_probs) - targets\n",
    "    # return the derivatives; none for derivative for the targets\n",
    "    return dJ_dy, None\n",
    "\n",
    "# DO NOT REMOVE!\n",
    "# here the adapted softmax function is set to be used later\n",
    "adapted_softmax = AdaptedSoftMax.apply"
   ]
  },
  {
   "cell_type": "markdown",
   "metadata": {
    "id": "gs39yr2OCG6W"
   },
   "source": [
    "## Confidence Evaluation\n",
    "\n",
    "Implement a function to compute the confidence value for a given batch of samples. Make sure to split the batch between known and unknown samples, and compute the confidence value for both separately."
   ]
  },
  {
   "cell_type": "code",
   "execution_count": 9,
   "metadata": {
    "id": "yhBEWy_tCG6W"
   },
   "outputs": [],
   "source": [
    "def confidence(logits, targets):\n",
    "  # comupte softmax confidences\n",
    "  batch = torch.nn.functional.softmax(logits, dim=1)\n",
    "  # split between known and unknown\n",
    "  batch_known, targets_known, batch_unknown = split_known_unknown(batch, targets)\n",
    "  # compute confidence score for known targets\n",
    "  conf_known = torch.sum(batch_known * targets_known)\n",
    "  # compute confidence score for unknown targets\n",
    "  conf_unknown = torch.sum(1 - torch.max(batch_unknown, dim = 1)[0] + 1/4)\n",
    "  return conf_known + conf_unknown"
   ]
  },
  {
   "cell_type": "markdown",
   "metadata": {
    "id": "9Dkd1hqqCG6X"
   },
   "source": [
    "## Check Confidence Implementation\n",
    "\n",
    "Test that the confidence implementation does what it is supposed to do."
   ]
  },
  {
   "cell_type": "code",
   "execution_count": 10,
   "metadata": {
    "id": "L9Vdl215CG6X"
   },
   "outputs": [],
   "source": [
    "# select good logit vectors for known and unknown classes\n",
    "known_logits = torch.diag(torch.ones(4)) * 5 - 4\n",
    "unknown_logits = torch.ones((4, 4))\n",
    "logits = torch.vstack((known_logits, unknown_logits))\n",
    "targets = torch.stack([target_vector(c) for c in known_classes + known_unknown_classes])\n",
    "# select the according target vectors for these classes\n",
    "conf = confidence(logits, targets)\n",
    "\n",
    "# the confidence should be close to 1 for all cases\n",
    "assert 5 - conf < 0.1"
   ]
  },
  {
   "cell_type": "markdown",
   "metadata": {
    "id": "1Um9cmgSCG6X"
   },
   "source": [
    "## Network Definition\n",
    "\n",
    "We define our own small-scale network to classify known and unknown samples for MNIST."
   ]
  },
  {
   "cell_type": "code",
   "execution_count": 11,
   "metadata": {
    "id": "i7HLLbqqCG6Y"
   },
   "outputs": [],
   "source": [
    "class Network (torch.nn.Module):\n",
    "  def __init__(self, Q1, Q2, K, O):\n",
    "    # call base class constrcutor\n",
    "    super(Network,self).__init__()\n",
    "    # define convolutional layers\n",
    "    self.conv1 = torch.nn.Conv2d(1, Q1, (5,5), stride=1, padding=2)\n",
    "    self.conv2 = torch.nn.Conv2d(Q1, Q2, (5,5), stride=1, padding=2)\n",
    "    # pooling and activation functions will be re-used for the different stages\n",
    "    self.pool = torch.nn.MaxPool2d((2,2), 2)\n",
    "    self.act = torch.nn.ReLU()\n",
    "    # define fully-connected layers\n",
    "    self.flatten = torch.nn.Flatten()\n",
    "    self.fc1 = torch.nn.Linear(7*7*Q2, K)\n",
    "    self.fc2 = torch.nn.Linear(K,O)\n",
    "\n",
    "  def forward(self,x):\n",
    "    # compute first layer of convolution, pooling and activation\n",
    "    a = self.conv1(x)\n",
    "    a = self.pool(a)\n",
    "    a = self.act(a)\n",
    "    # compute second layer of convolution, pooling and activation\n",
    "    a = self.conv2(a)\n",
    "    a = self.pool(a)\n",
    "    a = self.act(a)\n",
    "    a = self.flatten(a)\n",
    "\n",
    "    # get the deep features as the output of the first fully-connected layer\n",
    "    deep_features = self.fc1(a)\n",
    "    # get the logits as the output of the second fully-connected layer\n",
    "    logits = self.fc2(deep_features)\n",
    "    # return both the logits and the deep features\n",
    "    return logits, deep_features\n",
    "\n",
    "# run on cuda device\n",
    "device = torch.device(\"cuda\")\n",
    "# create network with 20 hidden neurons in FC layer\n",
    "network = Network(Q1=32, Q2=32, K=20, O=4).to(device)"
   ]
  },
  {
   "cell_type": "markdown",
   "metadata": {
    "id": "2wlDarXQCG6Y"
   },
   "source": [
    "## Training Loop\n",
    "\n",
    "Implement the training loop for 100 epochs.\n",
    "Compute the running training confidence and validation confidence and print them at the end of each epoch."
   ]
  },
  {
   "cell_type": "code",
   "execution_count": 12,
   "metadata": {
    "colab": {
     "base_uri": "https://localhost:8080/"
    },
    "id": "WEhQoA6vCG6Y",
    "outputId": "95d30b60-3566-48c4-a597-8f3822beb723"
   },
   "outputs": [
    {
     "name": "stdout",
     "output_type": "stream",
     "text": [
      "Epoch 0; train: 0.88853, val: 0.93874\n",
      "Epoch 1; train: 0.94658, val: 0.95810\n",
      "Epoch 2; train: 0.95714, val: 0.95519\n",
      "Epoch 3; train: 0.96348, val: 0.96353\n",
      "Epoch 4; train: 0.96721, val: 0.96853\n",
      "Epoch 5; train: 0.97044, val: 0.96970\n",
      "Epoch 6; train: 0.97412, val: 0.97309\n",
      "Epoch 7; train: 0.97579, val: 0.96861\n",
      "Epoch 8; train: 0.97698, val: 0.97522\n",
      "Epoch 9; train: 0.97882, val: 0.97264\n"
     ]
    }
   ],
   "source": [
    "# SGD optimizer with appropriate learning rate\n",
    "optimizer = torch.optim.SGD(network.parameters(),lr=0.001, momentum=0.9)\n",
    "\n",
    "# validation set and data loader\n",
    "validation_set = DataSet(\"valid\")\n",
    "validation_loader = torch.utils.data.DataLoader(validation_set, batch_size=100)\n",
    "\n",
    "for epoch in range(10): # or 100\n",
    "  # evaluate average confidence for training and validation set\n",
    "  train_conf = validation_conf = 0.\n",
    "\n",
    "  for x,t in train_loader:\n",
    "    # extract logits (and deep features) from network\n",
    "    optimizer.zero_grad()\n",
    "    # extract logits (and deep features) from network\n",
    "    logits, deep_feature = network(x.to(device))\n",
    "    # compute our loss\n",
    "    J = AdaptedSoftMax.apply(logits, t.to(device))\n",
    "    #J = adapted_softmax_alt(logits, t.to(device))\n",
    "    J.backward()\n",
    "    # perform weight update\n",
    "    optimizer.step()\n",
    "\n",
    "    # compute training confidence\n",
    "    with torch.no_grad():\n",
    "      train_conf += confidence(logits, t.to(device))\n",
    "\n",
    "  # compute validation comfidence\n",
    "  with torch.no_grad():\n",
    "    for x,t in validation_loader:\n",
    "      # extract logits (and deep features)\n",
    "      logits, deep_feature = network(x.to(device))\n",
    "      # compute validation confidence\n",
    "      validation_conf += confidence(logits, t.to(device))\n",
    "\n",
    "  # print average confidence for training and validation\n",
    "  print(f\"\\rEpoch {epoch}; train: {train_conf/len(train_set):1.5f}, val: {validation_conf/len(validation_set):1.5f}\")"
   ]
  },
  {
   "cell_type": "markdown",
   "metadata": {
    "id": "s2UBmSKUCG6Z"
   },
   "source": [
    "## Feature Magnitude Plot\n",
    "\n",
    "Take the validation and test sets and plot their feature magnitude as histogram, based on the pre-trained network and split between known, known unknown (validation set) and unknown unknown (test set)."
   ]
  },
  {
   "cell_type": "code",
   "execution_count": 13,
   "metadata": {
    "colab": {
     "base_uri": "https://localhost:8080/",
     "height": 234
    },
    "id": "dAlcEqu1CG6Z",
    "outputId": "754fff28-413e-4259-d1c4-591e23352fd0"
   },
   "outputs": [
    {
     "data": {
      "image/png": "[encoded data removed]",
      "text/plain": [
       "<Figure size 400x200 with 1 Axes>"
      ]
     },
     "metadata": {},
     "output_type": "display_data"
    }
   ],
   "source": [
    "# instantiate test set according data loader\n",
    "test_set = DataSet(\"test\")\n",
    "test_loader = torch.utils.data.DataLoader(test_set, batch_size=100)\n",
    "\n",
    "# collect feature magnitudes for\n",
    "known, known_unknown, unknown = [], [], []\n",
    "\n",
    "with torch.no_grad():\n",
    "  # extract deep features magnitudes for validation set\n",
    "  for x,t in validation_loader:\n",
    "    # extract deep features (and logits)\n",
    "    logits, deep_feature = network(x.to(device))\n",
    "    # compute norms\n",
    "    nr = torch.norm(deep_feature, dim=1)\n",
    "    # split between known and unknown\n",
    "    k, kt, uk = split_known_unknown(nr, t)\n",
    "    # collect norms of known samples\n",
    "    known.extend(k.tolist())\n",
    "    # collect norms of known unknwown samples\n",
    "    known_unknown.extend(uk.tolist())\n",
    "\n",
    "  for x,t in test_loader:\n",
    "    # extract deep features (and logits)\n",
    "    _, f = network(x.to(device))\n",
    "    # compute norms\n",
    "    nr = torch.norm(f, dim=1)\n",
    "    # split between known and unknown\n",
    "    k, kt, uk = split_known_unknown(nr, t)\n",
    "    # collect norms of known samples\n",
    "    known.extend(k.tolist())\n",
    "    # collect norms of unknown unknown samples\n",
    "    unknown.extend(uk.tolist())\n",
    "\n",
    "# plot the norms as histograms\n",
    "from matplotlib import pyplot as plt\n",
    "plt.figure(figsize=(4,2))\n",
    "\n",
    "# keep the same maximum magnitude\n",
    "max_mag = 20\n",
    "# plot the three histograms\n",
    "plt.hist(known, bins=100, range=(0,max_mag), density=True, color=\"g\", histtype=\"step\", label=\"Known\")\n",
    "plt.hist(known_unknown, bins=100, range=(0,max_mag), density=True, color=\"b\", histtype=\"step\", label=\"Known Unknown\")\n",
    "plt.hist(unknown, bins=100, range=(0,max_mag), density=True, color=\"r\", histtype=\"step\", label=\"Unknown Unknown\")\n",
    "\n",
    "# beautify plot\n",
    "plt.legend()\n",
    "plt.xlabel(\"Deep Feature Magnitude\")\n",
    "plt.ylabel(\"Density\")\n",
    "plt.show()"
   ]
  },
  {
   "cell_type": "markdown",
   "metadata": {
    "id": "GUbbfV5WCG6a"
   },
   "source": [
    "## Classification Evaluation\n",
    "\n",
    "For a fixed threshold of $\\tau=0.98$, compute CCR and FPR for the test set.\n",
    "A well-trained network can achieve a CCR of > 90% for an FPR < 10%."
   ]
  },
  {
   "cell_type": "code",
   "execution_count": 14,
   "metadata": {
    "colab": {
     "base_uri": "https://localhost:8080/"
    },
    "id": "fzUFBv0oCG6a",
    "outputId": "da688377-ea8d-460e-b935-ae4ae52b6328"
   },
   "outputs": [
    {
     "name": "stdout",
     "output_type": "stream",
     "text": [
      "CCR: 3519 of 3857 = 91.24%\n",
      "FPR: 173 of 2093 = 8.27%\n"
     ]
    }
   ],
   "source": [
    "from posixpath import split\n",
    "tau = 0.985\n",
    "\n",
    "# count the correctly classified and the total number of known samples\n",
    "correct = known = 0\n",
    "# count the incorrectly classified and the total number of unknown samples\n",
    "false = unknown = 0\n",
    "\n",
    "with torch.no_grad():\n",
    "  for x,t in test_loader:\n",
    "    # extract logits (and deep features)\n",
    "    z, _ = network(x.to(device))\n",
    "    # compute softmax confidences\n",
    "    p = torch.nn.functional.softmax(z, dim=1).cpu()\n",
    "    # split between known and unknown\n",
    "    known_p, known_targets, unknown_p = split_known_unknown(p, t)\n",
    "\n",
    "    # compute number of correctly classified knowns above threshold\n",
    "    correct += sum(torch.logical_and(\n",
    "        torch.argmax(known_p, dim=1) == torch.argmax(known_targets, dim=1),\n",
    "        known_p[known_targets.bool()] > tau\n",
    "    ))\n",
    "    known += len(known_p)\n",
    "\n",
    "    # compute number of incorrectly accepted known samples\n",
    "    false += sum(torch.max(unknown_p, dim=1)[0] > tau)\n",
    "    unknown += len(t) - len(known_p)\n",
    "\n",
    "# print both rates\n",
    "print (f\"CCR: {correct} of {known} = {correct/known*100:2.2f}%\")\n",
    "print (f\"FPR: {false} of {unknown} = {false/unknown*100:2.2f}%\")"
   ]
  }
 ],
 "metadata": {
  "accelerator": "GPU",
  "colab": {
   "provenance": []
  },
  "interpreter": {
   "hash": "2dd53f8ad749bca69f7250ce75eb4f0def59db5cf79075a9716322ffc58e8a2e"
  },
  "kernelspec": {
   "display_name": "Python 3 (ipykernel)",
   "language": "python",
   "name": "python3"
  },
  "language_info": {
   "codemirror_mode": {
    "name": "ipython",
    "version": 3
   },
   "file_extension": ".py",
   "mimetype": "text/x-python",
   "name": "python",
   "nbconvert_exporter": "python",
   "pygments_lexer": "ipython3",
   "version": "3.10.9"
  }
 },
 "nbformat": 4,
 "nbformat_minor": 1
}
